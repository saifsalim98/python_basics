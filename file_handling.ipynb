{
 "metadata": {
  "language_info": {
   "codemirror_mode": {
    "name": "ipython",
    "version": 3
   },
   "file_extension": ".py",
   "mimetype": "text/x-python",
   "name": "python",
   "nbconvert_exporter": "python",
   "pygments_lexer": "ipython3",
   "version": "3.8.5-final"
  },
  "orig_nbformat": 2,
  "kernelspec": {
   "name": "Python 3.8.5 32-bit",
   "display_name": "Python 3.8.5 32-bit",
   "metadata": {
    "interpreter": {
     "hash": "c8c67d7b5f6c4eb0441f3193fbadadf32ad8702ac25153d20f9b99244ab68d42"
    }
   }
  }
 },
 "nbformat": 4,
 "nbformat_minor": 2,
 "cells": [
  {
   "source": [
    "## Python File Handling\n",
    "- The key function for working with files in Python is the `open()` function\n",
    "- `open()` returns a file object, and is most commonly used with two arguments: `open(filename, mode)`\n",
    "\n",
    "### Different modes\n",
    "1. \"r\"  - Read - Default value. Opens a file for reading, error if the file does not exist\n",
    "\n",
    "2. \"a\"  - Append - Opens a file for appending, creates the file if it does not exist\n",
    "\n",
    "3. \"w\"  - Write - Opens a file for writing, creates the file if it does not exist\n",
    "\n",
    "4. \"r+\" - Both read and write - Opens the file, returns error if the file does not exist\n",
    "\n",
    "5. \"x\"  - Create, write, but no read - Creates the specified file, returns an error if the file exists"
   ],
   "cell_type": "markdown",
   "metadata": {}
  },
  {
   "cell_type": "code",
   "execution_count": 1,
   "metadata": {
    "tags": []
   },
   "outputs": [
    {
     "output_type": "stream",
     "name": "stdout",
     "text": "1) This is a test file\nTrue\n"
    }
   ],
   "source": [
    "f = open('d:/python_basics/file-examples/test.txt', 'r')\n",
    "# f.readline() reads a single line from the file\n",
    "# a newline character (\\n) is left at the end of the string\n",
    "# print also end = '\\n', so printing f.readline add empty lines\n",
    "print(f.readline(), end='')\n",
    "f.close()\n",
    "print(f.closed)"
   ]
  },
  {
   "cell_type": "code",
   "execution_count": 2,
   "metadata": {
    "tags": []
   },
   "outputs": [
    {
     "output_type": "stream",
     "name": "stdout",
     "text": "1) This is a test file\nTrue\n"
    }
   ],
   "source": [
    "# When using context managers to open a file, we don't have to explicitly close the file\n",
    "\n",
    "with open('d:/python_basics/file-examples/test.txt', 'r') as f:\n",
    "    print(f.readline(), end='')\n",
    "print(f.closed)"
   ]
  },
  {
   "cell_type": "code",
   "execution_count": 3,
   "metadata": {
    "tags": []
   },
   "outputs": [
    {
     "output_type": "stream",
     "name": "stdout",
     "text": "d:/python_basics/file-examples/test.txt\nr\n1) This is a test file\n2) With multiple lines of data...\n3) Third line\n4) Fourth line\n5) Fifth line\n6) Sixth line\n7) Seventh line\n8) Eighth line\n9) Ninth line\n10) Tenth line\n"
    }
   ],
   "source": [
    "with open('d:/python_basics/file-examples/test.txt', 'r') as f:\n",
    "    print(f.name)\n",
    "    print(f.mode)\n",
    "    # f.read() to read entire file content\n",
    "    print(f.read())"
   ]
  },
  {
   "cell_type": "code",
   "execution_count": 4,
   "metadata": {
    "tags": []
   },
   "outputs": [
    {
     "output_type": "stream",
     "name": "stdout",
     "text": "1) This is a test file\n2) With multiple lines of data...\n3) Third line\n4) Fourth line\n5) Fifth line\n6) Sixth line\n7) Seventh line\n8) Eighth line\n9) Ninth line\n10) Tenth line"
    }
   ],
   "source": [
    "with open('d:/python_basics/file-examples/test.txt', 'r') as f:\n",
    "    # file is an iterable object which produces iteration of its lines\n",
    "    for line in f:\n",
    "        print(line, end='')"
   ]
  },
  {
   "cell_type": "code",
   "execution_count": 5,
   "metadata": {
    "tags": []
   },
   "outputs": [
    {
     "output_type": "stream",
     "name": "stdout",
     "text": "[&#39;1) This is a test file\\n&#39;, &#39;2) With multiple lines of data...\\n&#39;, &#39;3) Third line\\n&#39;, &#39;4) Fourth line\\n&#39;, &#39;5) Fifth line\\n&#39;, &#39;6) Sixth line\\n&#39;, &#39;7) Seventh line\\n&#39;, &#39;8) Eighth line\\n&#39;, &#39;9) Ninth line\\n&#39;, &#39;10) Tenth line&#39;]\n"
    }
   ],
   "source": [
    "with open('d:/python_basics/file-examples/test.txt', 'r') as f:\n",
    "    # Read until EOF using readline() and return a list containing the lines\n",
    "    # Notice that readline didn't added (\\n) in the last line\n",
    "    print(f.readlines())"
   ]
  },
  {
   "cell_type": "code",
   "execution_count": 6,
   "metadata": {
    "tags": []
   },
   "outputs": [
    {
     "output_type": "stream",
     "name": "stdout",
     "text": "1) This is\n10\n15\nst file\n2) With multiple lines of data...\n3) Third\n"
    }
   ],
   "source": [
    "with open('d:/python_basics/file-examples/test.txt', 'r') as f:\n",
    "    # Read only specified size from the file\n",
    "    print(f.read(10))\n",
    "    # Return the file's current position\n",
    "    print(f.tell())\n",
    "    # Set the file's current position\n",
    "    f.seek(15)\n",
    "    print(f.tell())\n",
    "    print(f.read(50))"
   ]
  },
  {
   "cell_type": "code",
   "execution_count": 7,
   "metadata": {
    "tags": []
   },
   "outputs": [
    {
     "output_type": "stream",
     "name": "stdout",
     "text": "1) This is* a test fi*le\n2) With* multiple *lines of d*ata...\n3) *Third line*\n4) Fourth* line\n5) F*ifth line\n*6) Sixth l*ine\n7) Sev*enth line\n*8) Eighth *line\n9) Ni*nth line\n1*0) Tenth l*ine*"
    }
   ],
   "source": [
    "with open('d:/python_basics/file-examples/test.txt', 'r') as f:\n",
    "    content = f.read(10)\n",
    "    f.seek(10)\n",
    "    while len(content) > 0:\n",
    "        print(content, end='*')\n",
    "        content = f.read(10)"
   ]
  },
  {
   "cell_type": "code",
   "execution_count": 8,
   "metadata": {},
   "outputs": [],
   "source": [
    "with open('d:/python_basics/file-examples/test.txt', 'a') as f:\n",
    "    f.write(\"\\n11) Eleventh line\")"
   ]
  },
  {
   "cell_type": "code",
   "execution_count": 9,
   "metadata": {
    "tags": []
   },
   "outputs": [
    {
     "output_type": "stream",
     "name": "stdout",
     "text": "1) This is a test file\n2) With multiple lines of data...\n3) Third line\n4) Fourth line\n5) Fifth line\n6) Sixth line\n7) Seventh line\n8) Eighth line\n9) Ninth line\n10) Tenth line\n11) Eleventh line\n"
    }
   ],
   "source": [
    "with open('d:/python_basics/file-examples/test.txt', 'r') as f:\n",
    "    print(f.read())"
   ]
  },
  {
   "cell_type": "code",
   "execution_count": 10,
   "metadata": {},
   "outputs": [],
   "source": [
    "with open('d:/python_basics/file-examples/test.txt', 'r') as f1:\n",
    "    # Opening test_copy.txt in write mode will create the file because no such file exists\n",
    "    with open('d:/python_basics/file-examples/test_copy.txt', 'w') as f2:\n",
    "        # Iterate over each line from f1\n",
    "        for line in f1:\n",
    "            # Write the line in f2\n",
    "            f2.write(line)"
   ]
  },
  {
   "cell_type": "code",
   "execution_count": 11,
   "metadata": {
    "tags": []
   },
   "outputs": [
    {
     "output_type": "stream",
     "name": "stdout",
     "text": "1) This is a test file\n2) With multiple lines of data...\n3) Third line\n4) Fourth line\n5) Fifth line\n6) Sixth line\n7) Seventh line\n8) Eighth line\n9) Ninth line\n10) Tenth line\n11) Eleventh line\n"
    }
   ],
   "source": [
    "with open('d:/python_basics/file-examples/test_copy.txt', 'r') as f2:\n",
    "    print(f2.read())"
   ]
  },
  {
   "cell_type": "code",
   "execution_count": 12,
   "metadata": {},
   "outputs": [],
   "source": [
    "with open('d:/python_basics/file-examples/test_copy.txt', 'w') as f:\n",
    "    # Write mode erase all the content present within a file and starts writting from very beginning\n",
    "    f.write('Hello World')"
   ]
  },
  {
   "cell_type": "code",
   "execution_count": 13,
   "metadata": {
    "tags": []
   },
   "outputs": [
    {
     "output_type": "stream",
     "name": "stdout",
     "text": "Hello World\n"
    }
   ],
   "source": [
    "with open('d:/python_basics/file-examples/test_copy.txt', 'r') as f:\n",
    "    print(f.read())"
   ]
  },
  {
   "source": [
    "- Binary files are any files where the format isn't made up of readable characters.\n",
    "- Binary files can range from -\n",
    "    1. Image files like JPEGs or GIFs\n",
    "    2. Audio files like MP3s or\n",
    "    3. Binary document formats like Word or PDF.\n",
    "- Use 'rb' and 'wb' as mode values to read and write binary files respectively"
   ],
   "cell_type": "markdown",
   "metadata": {}
  },
  {
   "cell_type": "code",
   "execution_count": 14,
   "metadata": {
    "tags": []
   },
   "outputs": [],
   "source": [
    "with open('d:/python_basics/file-examples/batman.jpg', 'rb') as f1:\n",
    "    with open('d:/python_basics/file-examples/batman_copy.jpg', 'wb') as f2:\n",
    "        for line in f1:\n",
    "            f2.write(line)"
   ]
  },
  {
   "source": [
    "- 'r+' mode don't erase the file content before writting to it, unlike 'w' mode"
   ],
   "cell_type": "markdown",
   "metadata": {}
  },
  {
   "cell_type": "code",
   "execution_count": 15,
   "metadata": {
    "tags": []
   },
   "outputs": [
    {
     "output_type": "stream",
     "name": "stdout",
     "text": "Hello World\nHello Saifd\n"
    }
   ],
   "source": [
    "with open('d:/python_basics/file-examples/test_copy.txt', 'r+') as f:\n",
    "    print(f.read())\n",
    "    f.seek(6)\n",
    "    f.write(\"Saif\")\n",
    "    f.seek(0)\n",
    "    print(f.read())"
   ]
  },
  {
   "cell_type": "code",
   "execution_count": 16,
   "metadata": {},
   "outputs": [],
   "source": [
    "with open('d:/python_basics/file-examples/test_new.txt', 'x') as f:\n",
    "    f.write('Hello')"
   ]
  },
  {
   "cell_type": "code",
   "execution_count": 17,
   "metadata": {
    "tags": []
   },
   "outputs": [
    {
     "output_type": "stream",
     "name": "stdout",
     "text": "Hello\n"
    }
   ],
   "source": [
    "with open('d:/python_basics/file-examples/test_new.txt', 'r') as f:\n",
    "    print(f.read())"
   ]
  }
 ]
}