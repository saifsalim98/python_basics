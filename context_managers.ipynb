{
 "metadata": {
  "language_info": {
   "codemirror_mode": {
    "name": "ipython",
    "version": 3
   },
   "file_extension": ".py",
   "mimetype": "text/x-python",
   "name": "python",
   "nbconvert_exporter": "python",
   "pygments_lexer": "ipython3",
   "version": "3.8.5-final"
  },
  "orig_nbformat": 2,
  "kernelspec": {
   "name": "Python 3.8.5 32-bit",
   "display_name": "Python 3.8.5 32-bit",
   "metadata": {
    "interpreter": {
     "hash": "c8c67d7b5f6c4eb0441f3193fbadadf32ad8702ac25153d20f9b99244ab68d42"
    }
   }
  }
 },
 "nbformat": 4,
 "nbformat_minor": 2,
 "cells": [
  {
   "source": [
    "## Context Manager in Python\n",
    "\n",
    "**Managing Resources**<br>\n",
    "In any programming language, the usage of resources like file operations or database connections is very common. But these resources are limited in supply. Therefore, the main problem lies in making sure to release these resources after usage. If they are not released then it will lead to resource leakage and may cause the system to either slow down or crash. It would be very helpful if user have a mechanism for the automatic setup and teardown of resources.<br>\n",
    "\n",
    "- Python provides an easy way to manage resources: Context Managers\n",
    "- `with` keyword is used for context Managers\n",
    "- When expresseion after `with` keyword is evaluated,it result in an object that performs context management\n",
    "- Context managers can be written using classes or functions(with decorators)\n"
   ],
   "cell_type": "markdown",
   "metadata": {}
  },
  {
   "source": [
    "#### Creating a Context Managers using Classes\n",
    "When creating context managers using classes, user need to ensure that the class has the methods:<br>\n",
    "- `__enter__()`: It returns the resource that has to be managed\n",
    "- `__exit__()`: It does not return anything but perform clean up activities"
   ],
   "cell_type": "markdown",
   "metadata": {}
  },
  {
   "cell_type": "code",
   "execution_count": 1,
   "metadata": {},
   "outputs": [
    {
     "output_type": "stream",
     "name": "stdout",
     "text": [
      "init method called\nenter method called\nwith statement block\nexit method called\n"
     ]
    }
   ],
   "source": [
    "class ContextManager(): \n",
    "    def __init__(self): \n",
    "        print('init method called') \n",
    "          \n",
    "    def __enter__(self): \n",
    "        print('enter method called') \n",
    "        return self\n",
    "        \n",
    "    # the parameters in exit method are used to manage exceptions and has to be present \n",
    "    def __exit__(self, exc_type, exc_value, exc_traceback): \n",
    "        print('exit method called') \n",
    "  \n",
    "with ContextManager() as manager: \n",
    "    print('with statement block') "
   ]
  },
  {
   "source": [
    "- Execution of `ContextManager()` calls the `__init__()`.\n",
    "- Then `__enter__()` is called and the object that has to be managed is returned and set to `manager` variable\n",
    "- Then code within `with` block is executed\n",
    "- When the code in `with` block ends, the `__exit__()` method is called lastly."
   ],
   "cell_type": "markdown",
   "metadata": {}
  },
  {
   "cell_type": "code",
   "execution_count": 2,
   "metadata": {},
   "outputs": [
    {
     "output_type": "stream",
     "name": "stdout",
     "text": [
      "True\n"
     ]
    }
   ],
   "source": [
    "# Python program showing file management using  context manager \n",
    " \n",
    "class FileManager(): \n",
    "    def __init__(self, filename, mode): \n",
    "        self.filename = filename \n",
    "        self.mode = mode \n",
    "        self.file = None\n",
    "          \n",
    "    def __enter__(self): \n",
    "        self.file = open(self.filename, self.mode) \n",
    "        return self.file\n",
    "      \n",
    "    def __exit__(self, exc_type, exc_value, exc_traceback): \n",
    "        self.file.close() \n",
    "  \n",
    "# loading a file  \n",
    "with FileManager('file-examples/test_context_managers.txt', 'w') as f: \n",
    "    f.write('Testing File Management using Context Managers') \n",
    "  \n",
    "print(f.closed) "
   ]
  },
  {
   "cell_type": "code",
   "execution_count": null,
   "metadata": {},
   "outputs": [],
   "source": [
    "# Python program shows the connection management for MongoDB \n",
    "  \n",
    "from pymongo import MongoClient \n",
    "  \n",
    "class MongoDBConnectionManager(): \n",
    "    def __init__(self, hostname, port): \n",
    "        self.hostname = hostname \n",
    "        self.port = port \n",
    "        self.connection = None\n",
    "  \n",
    "    def __enter__(self): \n",
    "        self.connection = MongoClient(self.hostname, self.port) \n",
    "        return self\n",
    "  \n",
    "    def __exit__(self, exc_type, exc_value, exc_traceback): \n",
    "        self.connection.close() \n",
    "  \n",
    "# connecting with a localhost \n",
    "with MongoDBConnectionManager('localhost', 27017) as mongo: \n",
    "    collection = mongo.connection.SampleDb.test \n",
    "    collection.insert({'_id': 1, 'name':'Saif'}) \n",
    "    data = collection.find({'_id': 1})\n",
    "    print(data.next())"
   ]
  },
  {
   "source": [
    "- Execution of `MongoDBConnectionManager()` calls the `__init__()` which set the value for hostname and port.\n",
    "- Then `__enter__()` is called and the object that has to be managed is returned and set to `mongo` variable\n",
    "- Then code within `with` block is executed where\n",
    "    - `mongo.connection` is used to get a connection\n",
    "    - Then using that connection we open `test` collection within `SampleDB` database.\n",
    "    - The collection is assigned to `collection` variable.\n",
    "    - We then query the collection to look for document having `_id:1` which return a cursor object\n",
    "    - We then use `next()` on cursor to print out the first document in the cursor.\n",
    "- When the code in `with` block ends, the `__exit__()` method is called lastly that closes the database connection"
   ],
   "cell_type": "markdown",
   "metadata": {}
  },
  {
   "source": [
    "### Creating Context Managers using `contextmanager` decorator\n",
    "- **We can simply make any function a context manager with the help of `contextlib.contextmanager` decorator without having to write a separate class or `__enter__()` and `__exit__()` functions.**\n",
    "- We have to use `contextlib.contextmanager` to decorate a generator function which yields exactly once\n",
    "- Everything before `yield` is considered to be `__enter__()` section and everything after, to be `__exit__()` section.\n",
    "- The generator function should yield the resource."
   ],
   "cell_type": "markdown",
   "metadata": {}
  },
  {
   "cell_type": "code",
   "execution_count": 3,
   "metadata": {},
   "outputs": [
    {
     "output_type": "stream",
     "name": "stdout",
     "text": [
      "Enter method called\nwith statement block\nExit method called\n"
     ]
    }
   ],
   "source": [
    "from contextlib import contextmanager \n",
    "  \n",
    "@contextmanager\n",
    "def ContextManager(): \n",
    "      \n",
    "    # Before yield as the enter method \n",
    "    print(\"Enter method called\") \n",
    "    yield\n",
    "      \n",
    "    # After yield as the exit method \n",
    "    print(\"Exit method called\") \n",
    "  \n",
    "with ContextManager() as manager:  \n",
    "    print('with statement block')  "
   ]
  },
  {
   "cell_type": "code",
   "execution_count": 4,
   "metadata": {},
   "outputs": [
    {
     "output_type": "stream",
     "name": "stdout",
     "text": [
      "True\n"
     ]
    }
   ],
   "source": [
    "# Python program showing file management using context manager created using decorators\n",
    "\n",
    "from contextlib import contextmanager\n",
    "\n",
    "@contextmanager\n",
    "def file_manager(filename, mode):\n",
    "    f = open(filename, mode)\n",
    "    try:\n",
    "        yield f \n",
    "    finally:\n",
    "        f.close()\n",
    " \n",
    "with file_manager('file-examples/test_context_managers_decorator.txt', 'w') as f: \n",
    "    f.write('Testing File Management using Context Managers created using Decorators') \n",
    "  \n",
    "print(f.closed) "
   ]
  },
  {
   "source": [
    "- Before `yield` statement, we created file descriptor based on the arguments like we did in `__enter__()`\n",
    "- Instead of returning the object that has to be managed from `__enter__()`, we used generator that yielded file descriptor.\n",
    "- This yielded value is set to the variable `f` in expression `with file_manager(filename, mode) as f:`\n",
    "- Then the code within `with` block is executed\n",
    "- Just after execution of code in `with` block, the code after `yield` statement is executed\n"
   ],
   "cell_type": "markdown",
   "metadata": {}
  },
  {
   "cell_type": "code",
   "execution_count": null,
   "metadata": {},
   "outputs": [],
   "source": [
    "# tasks.tasksdb_tinydb.py\n",
    "\n",
    "import tinydb\n",
    "\n",
    "class TasksDB_TinyDB():  # noqa : E801\n",
    "    \"\"\"Wrapper class for TinyDB.\n",
    "\n",
    "    The methods in this class need to match\n",
    "    all database interaction classes.\n",
    "\n",
    "    So far, this is:\n",
    "    TasksDB_MongoDB found in tasksdb_pymongo.py.\n",
    "    TasksDB_TinyDB found in tasksdb_tinydb.py.\n",
    "    \"\"\"\n",
    "\n",
    "    def __init__(self, db_path):  # type (str) -> ()\n",
    "        \"\"\"Connect to db.\"\"\"\n",
    "        self._db = tinydb.TinyDB(db_path + '/tasks_db.json')\n",
    "\n",
    "    def add(self, task):  # type (dict) -> int\n",
    "        \"\"\"Add a task dict to db.\"\"\"\n",
    "        task_id = self._db.insert(task)\n",
    "        task['id'] = task_id\n",
    "        self._db.update(task, doc_ids=[task_id])\n",
    "        return task_id\n",
    "\n",
    "def start_tasks_db(db_path):  # type (str) -> TasksDB_MongoDB object\n",
    "    \"\"\"Connect to db.\"\"\"\n",
    "    return TasksDB_TinyDB(db_path)"
   ]
  },
  {
   "cell_type": "code",
   "execution_count": null,
   "metadata": {},
   "outputs": [],
   "source": [
    "# tasks.add() within \"with\" block calls this function\n",
    "\n",
    "def add(task):  # type: (Task) -> int\n",
    "    \"\"\"Add a task (a Task object) to the tasks database.\"\"\"\n",
    "    if not isinstance(task, Task):\n",
    "        raise TypeError('task must be Task object')\n",
    "    if not isinstance(task.summary, string_types):\n",
    "        raise ValueError('task.summary must be string')\n",
    "    if not ((task.owner is None) or\n",
    "            isinstance(task.owner, string_types)):\n",
    "        raise ValueError('task.owner must be string or None)')\n",
    "    # We test for this in ch5, so keep this commented out to let\n",
    "    # the ch5 test fail.\n",
    "    #\n",
    "    # if not isinstance(task.done, bool):\n",
    "    #     raise ValueError('task.done must be True or False')\n",
    "    if task.id is not None:\n",
    "        raise ValueError('task.id must None')\n",
    "    if _tasksdb is None:\n",
    "        raise UninitializedDatabase()\n",
    "    task_id = _tasksdb.add(task._asdict())\n",
    "    # _taskdb holds the TaskDB_TinyDB object that has add()\n",
    "    return task_id"
   ]
  },
  {
   "cell_type": "code",
   "execution_count": null,
   "metadata": {},
   "outputs": [],
   "source": [
    "_tasksdb = None\n",
    "\n",
    "def start_tasks_db(db_path, db_type):  # type: (str, str) -> None\n",
    "    \"\"\"Connect API functions to a db.\"\"\"\n",
    "    if not isinstance(db_path, string_types):\n",
    "        raise TypeError('db_path must be a string')\n",
    "    global _tasksdb\n",
    "    if db_type == 'tiny':\n",
    "        import tasks.tasksdb_tinydb\n",
    "        _tasksdb = tasks.tasksdb_tinydb.start_tasks_db(db_path)\n",
    "        # _taskdb is a global variable that contain TasksDB_TinyDB object which has _db variable\n",
    "        # On execution of this line, _taskdb is present globally\n",
    "    elif db_type == 'mongo':\n",
    "        import tasks.tasksdb_pymongo\n",
    "        _tasksdb = tasks.tasksdb_pymongo.start_tasks_db(db_path)\n",
    "    else:\n",
    "        raise ValueError(\"db_type must be a 'tiny' or 'mongo'\")"
   ]
  },
  {
   "cell_type": "code",
   "execution_count": null,
   "metadata": {},
   "outputs": [],
   "source": [
    "@contextmanager\n",
    "def _tasks_db():\n",
    "    config = tasks.config.get_config() \n",
    "    # This call get_config() in tasks.config module which return namedtuple TaskConfig containing keys: db_path and db_type\n",
    "    tasks.start_tasks_db(config.db_path, config.db_type)\n",
    "    # This will start the database depending on type of db mongo or tiny and also path\n",
    "    # After execution of this line, _taskdb is present globally\n",
    "    # Now code within \"with\" block will be executed\n",
    "    yield\n",
    "    tasks.stop_tasks_db()\n",
    "    # This will close the connection to database\n",
    "\n",
    "@tasks_cli.command(help=\"add a task\")\n",
    "@click.argument('summary')\n",
    "@click.option('-o', '--owner', default=None,\n",
    "              help='set the task owner')\n",
    "def add(summary, owner):\n",
    "    \"\"\"Add a task to db.\"\"\"\n",
    "    with _tasks_db():\n",
    "        # Before execution of next line, _taskdb is present globally\n",
    "        tasks.add(Task(summary, owner))\n",
    "        # add() returns task_id but we don't need it in CLI\n",
    "        # Before exiting the \"with\" block, code after \"yield\" statement is executed that closes the database"
   ]
  }
 ]
}