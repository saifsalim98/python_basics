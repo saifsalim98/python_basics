{
 "metadata": {
  "language_info": {
   "codemirror_mode": {
    "name": "ipython",
    "version": 3
   },
   "file_extension": ".py",
   "mimetype": "text/x-python",
   "name": "python",
   "nbconvert_exporter": "python",
   "pygments_lexer": "ipython3",
   "version": "3.8.5-final"
  },
  "orig_nbformat": 2,
  "kernelspec": {
   "name": "Python 3.8.5 32-bit",
   "display_name": "Python 3.8.5 32-bit",
   "metadata": {
    "interpreter": {
     "hash": "c8c67d7b5f6c4eb0441f3193fbadadf32ad8702ac25153d20f9b99244ab68d42"
    }
   }
  }
 },
 "nbformat": 4,
 "nbformat_minor": 2,
 "cells": [
  {
   "source": [
    "## Python `random` module\n",
    "- This module implements pseudo-random number generators for various distributions.\n",
    "- Almost all module functions depend on the basic function `random()`, which generates a random float uniformly in the semi-open range [0.0, 1.0).\n",
    "- Python uses the Mersenne Twister as the core generator.\n",
    "- The Mersenne Twister is one of the most extensively tested random number generators in existence.\n",
    "- However, being completely deterministic, it is completely unsuitable for cryptographic purposes.\n",
    "- Python suggests use of `secrets` module for cryptographic purposes.\n"
   ],
   "cell_type": "markdown",
   "metadata": {}
  },
  {
   "cell_type": "code",
   "execution_count": 1,
   "metadata": {},
   "outputs": [],
   "source": [
    "import random\n",
    "# Initialize the random number generator.\n",
    "# If a is omitted or None, the current system time is used.\n",
    "# Use this for code reproducibility\n",
    "random.seed(100)"
   ]
  },
  {
   "cell_type": "code",
   "execution_count": 2,
   "metadata": {
    "tags": []
   },
   "outputs": [
    {
     "output_type": "stream",
     "name": "stdout",
     "text": "0.1456692551041303\n5.91195253385516\n2\n4\n5\n64\n"
    }
   ],
   "source": [
    "print(random.random())                 # Random float:  0.0 <= x < 1.0\n",
    "print(random.uniform(2.5, 10.0))       # Random float:  2.5 <= x < 10.0\n",
    "print(random.randint(1,6))             # Random integer: [1,6]\n",
    "print(random.randrange(1,6))           # Random integer: [1,6)\n",
    "print(random.randrange(10))            # Random integer: [0,10)\n",
    "print(random.randrange(10,101,2))      # Even random integer: [10, 101)"
   ]
  },
  {
   "cell_type": "code",
   "execution_count": 3,
   "metadata": {
    "tags": []
   },
   "outputs": [
    {
     "output_type": "stream",
     "name": "stdout",
     "text": "draw\n"
    }
   ],
   "source": [
    "# Single random element from a sequence\n",
    "options = ['win', 'lose', 'draw']\n",
    "print(random.choice(options))      "
   ]
  },
  {
   "cell_type": "code",
   "execution_count": 4,
   "metadata": {
    "tags": []
   },
   "outputs": [
    {
     "output_type": "stream",
     "name": "stdout",
     "text": "[&#39;draw&#39;, &#39;lose&#39;, &#39;win&#39;, &#39;lose&#39;, &#39;win&#39;]\n"
    }
   ],
   "source": [
    "# Simulating it 5 times\n",
    "print(random.choices(options, k = 5))"
   ]
  },
  {
   "cell_type": "code",
   "execution_count": 5,
   "metadata": {
    "tags": []
   },
   "outputs": [
    {
     "output_type": "stream",
     "name": "stdout",
     "text": "[&#39;three&#39;, &#39;ace&#39;, &#39;four&#39;, &#39;two&#39;]\n"
    }
   ],
   "source": [
    "deck = 'ace two three four'.split()\n",
    "# Shuffle the sequence in place\n",
    "random.shuffle(deck)\n",
    "print(deck)"
   ]
  },
  {
   "cell_type": "code",
   "execution_count": 6,
   "metadata": {
    "tags": []
   },
   "outputs": [
    {
     "output_type": "stream",
     "name": "stdout",
     "text": "[30, 20, 10, 50]\n"
    }
   ],
   "source": [
    "# Return a k length list of unique elements chosen from the population sequence or set.\n",
    "# Used for random sampling without replacement.\n",
    "# Four samples without replacement\n",
    "print(random.sample([10, 20, 30, 40, 50], k=4))"
   ]
  },
  {
   "cell_type": "code",
   "execution_count": 7,
   "metadata": {
    "tags": []
   },
   "outputs": [
    {
     "output_type": "stream",
     "name": "stdout",
     "text": "[13, 23, 24, 41, 27]\n"
    }
   ],
   "source": [
    "# Pick 5 cards from a pack of 52\n",
    "deck = list(range(1,53))\n",
    "print(random.sample(deck, k=5))"
   ]
  },
  {
   "cell_type": "code",
   "execution_count": 8,
   "metadata": {
    "tags": []
   },
   "outputs": [
    {
     "output_type": "stream",
     "name": "stdout",
     "text": "[&#39;green&#39;, &#39;red&#39;, &#39;green&#39;, &#39;black&#39;, &#39;black&#39;, &#39;black&#39;]\n"
    }
   ],
   "source": [
    "# Six roulette wheel spins (weighted sampling with replacement)\n",
    "# Wheel consisting of 38 total strips, 18 red, 18 black and 2 green\n",
    "# And a ball is rotated on the wheel\n",
    "# Probability that the ball lands on red strip = 18/38\n",
    "print(random.choices(['red', 'black', 'green'], weights=[18, 18, 2], k=6))"
   ]
  },
  {
   "cell_type": "code",
   "execution_count": 9,
   "metadata": {
    "tags": []
   },
   "outputs": [
    {
     "output_type": "stream",
     "name": "stdout",
     "text": "0.4243\n"
    }
   ],
   "source": [
    "# Estimate the probability of getting 5 or more heads from 7 spins\n",
    "# of a biased coin that settles on heads 60% of the time.\n",
    "def trial():\n",
    "    return random.choices('HT', weights=[0.6, 0.4], k=7).count('H') >= 5\n",
    "\n",
    "# total = 0\n",
    "# for i in range(100000):\n",
    "#     total += int(trial())\n",
    "# prob = total / 100000\n",
    "# print(prob)\n",
    "\n",
    "print(sum([trial() for i in range(10000)])/10000)\n"
   ]
  }
 ]
}