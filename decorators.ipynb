{
 "metadata": {
  "language_info": {
   "codemirror_mode": {
    "name": "ipython",
    "version": 3
   },
   "file_extension": ".py",
   "mimetype": "text/x-python",
   "name": "python",
   "nbconvert_exporter": "python",
   "pygments_lexer": "ipython3",
   "version": "3.8.5-final"
  },
  "orig_nbformat": 2,
  "kernelspec": {
   "name": "Python 3.8.5 32-bit",
   "display_name": "Python 3.8.5 32-bit",
   "metadata": {
    "interpreter": {
     "hash": "c8c67d7b5f6c4eb0441f3193fbadadf32ad8702ac25153d20f9b99244ab68d42"
    }
   }
  }
 },
 "nbformat": 4,
 "nbformat_minor": 2,
 "cells": [
  {
   "source": [
    "## Decorators\n",
    "- By definition, a decorator is a function that takes another function and extends the behavior of the latter function without explicitly modifying it."
   ],
   "cell_type": "markdown",
   "metadata": {}
  },
  {
   "source": [
    "### First Class Objects\n",
    "- In Python, functions are first-class objects. This means that functions can be passed around and used as arguments, just like any other object (string, int, float, list, and so on)."
   ],
   "cell_type": "markdown",
   "metadata": {}
  },
  {
   "cell_type": "code",
   "execution_count": 1,
   "metadata": {},
   "outputs": [],
   "source": [
    "def say_hello(name):\n",
    "    return f\"Hello {name}\"\n",
    "\n",
    "def be_awesome(name):\n",
    "    return f\"Yo {name}, together we are the awesomest!\"\n",
    "\n",
    "def greet_bob(greeter_func):\n",
    "    return greeter_func(\"Bob\")"
   ]
  },
  {
   "source": [
    "Here, `say_hello()` and `be_awesome()` are regular functions that expect a name given as a string. The `greet_bob()` function however, expects a function as its argument. We can, for instance, pass it the `say_hello()` or the `be_awesome()` function:"
   ],
   "cell_type": "markdown",
   "metadata": {}
  },
  {
   "cell_type": "code",
   "execution_count": 2,
   "metadata": {},
   "outputs": [
    {
     "output_type": "stream",
     "name": "stdout",
     "text": [
      "Hello Bob\nYo Bob, together we are the awesomest!\n"
     ]
    }
   ],
   "source": [
    "print(greet_bob(say_hello))\n",
    "print(greet_bob(be_awesome))"
   ]
  },
  {
   "source": [
    "Note that `greet_bob(say_hello)` refers to two functions, but in different ways: `greet_bob()` and `say_hello`. The `say_hello` function is named without parentheses. This means that only a reference to the function is passed. The function is not executed. The `greet_bob()` function, on the other hand, is written with parentheses, so it will be called as usual."
   ],
   "cell_type": "markdown",
   "metadata": {}
  },
  {
   "source": [
    "### Inner Functions\n",
    "- It’s possible to define functions inside other functions. Such functions are called inner functions."
   ],
   "cell_type": "markdown",
   "metadata": {}
  },
  {
   "cell_type": "code",
   "execution_count": 3,
   "metadata": {},
   "outputs": [
    {
     "output_type": "stream",
     "name": "stdout",
     "text": [
      "Printing from the parent() function\nPrinting from the second_child() function\nPrinting from the first_child() function\n"
     ]
    }
   ],
   "source": [
    "def parent():\n",
    "    print(\"Printing from the parent() function\")\n",
    "\n",
    "    def first_child():\n",
    "        print(\"Printing from the first_child() function\")\n",
    "\n",
    "    def second_child():\n",
    "        print(\"Printing from the second_child() function\")\n",
    "\n",
    "    second_child()\n",
    "    first_child()\n",
    "\n",
    "parent()"
   ]
  },
  {
   "source": [
    "The inner functions are not defined until the parent function is called. They are locally scoped to parent(): they only exist inside the parent() function as local variables."
   ],
   "cell_type": "markdown",
   "metadata": {}
  },
  {
   "source": [
    "### Returning Functions From Functions\n",
    "- Python also allows you to use functions as return values. "
   ],
   "cell_type": "markdown",
   "metadata": {}
  },
  {
   "cell_type": "code",
   "execution_count": 4,
   "metadata": {},
   "outputs": [
    {
     "output_type": "stream",
     "name": "stdout",
     "text": [
      "<function parent.<locals>.first_child at 0x06103B68>\n<function parent.<locals>.second_child at 0x01145100>\nHi, I am Emma\nCall me Liam\n"
     ]
    }
   ],
   "source": [
    "def parent(num):\n",
    "    def first_child():\n",
    "        return \"Hi, I am Emma\"\n",
    "\n",
    "    def second_child():\n",
    "        return \"Call me Liam\"\n",
    "\n",
    "    if num == 1:\n",
    "        return first_child\n",
    "    else:\n",
    "        return second_child\n",
    "\n",
    "first = parent(1)\n",
    "second = parent(2)\n",
    "print(first)\n",
    "print(second)\n",
    "print(first())\n",
    "print(second())"
   ]
  },
  {
   "source": [
    "We are returning `first_child` without the parentheses. Recall that this means that you are returning a reference to the function `first_child`. In contrast `first_child()` with parentheses refers to the result of evaluating the function.\n",
    "\n",
    "The somewhat cryptic output simply means that the `first` variable refers to the local `first_child()` function inside of `parent()`, while `second` points to `second_child()`.\n",
    "\n",
    "Finally, note that in the earlier example you executed the inner functions within the `parent` function, for instance `first_child()`. However, in this last example, you did not add parentheses to the inner functions—`first_child`—upon returning. That way, you got a reference to each function that you could call in the future."
   ],
   "cell_type": "markdown",
   "metadata": {}
  },
  {
   "source": [
    "## Simple Decorators"
   ],
   "cell_type": "markdown",
   "metadata": {}
  },
  {
   "cell_type": "code",
   "execution_count": 5,
   "metadata": {},
   "outputs": [
    {
     "output_type": "stream",
     "name": "stdout",
     "text": [
      "Something is happening before the function is called.\nWhee!\nSomething is happening after the function is called.\nNone\n<function my_decorator.<locals>.wrapper at 0x01145190>\n"
     ]
    }
   ],
   "source": [
    "def my_decorator(func):\n",
    "    def wrapper():\n",
    "        print(\"Something is happening before the function is called.\")\n",
    "        func()\n",
    "        print(\"Something is happening after the function is called.\")\n",
    "    return wrapper\n",
    "\n",
    "def say_whee():\n",
    "    print(\"Whee!\")\n",
    "\n",
    "say_whee = my_decorator(say_whee)\n",
    "\n",
    "print(say_whee())\n",
    "print(say_whee)"
   ]
  },
  {
   "source": [
    "- The so-called decoration happens using: `say_whee = my_decorator(say_whee)`\n",
    "- In effect, the name `say_whee` now points to the `wrapper()` inner function.\n",
    "- However, `wrapper()` has a reference to the original `say_whee()` as `func`, and calls that function between the two calls to print().\n",
    "- `wrapper()` is a decorator function which took `say_whee()` function and extended the behaviour of `say_whee()`\n",
    "- `say_whee()` earlier only printed \"Whee!\"\n",
    "- After being decorated by `wrapper()` function, call to `say_whee()` now add a print statement before and after printing \"Whee!\"\n",
    "- ### Put simply: decorators wrap a function, modifying its behavior."
   ],
   "cell_type": "markdown",
   "metadata": {}
  },
  {
   "cell_type": "code",
   "execution_count": 6,
   "metadata": {},
   "outputs": [
    {
     "output_type": "stream",
     "name": "stdout",
     "text": [
      "Whee!\n"
     ]
    }
   ],
   "source": [
    "from datetime import datetime\n",
    "\n",
    "def not_during_the_night(func):\n",
    "    def wrapper():\n",
    "        if 7 <= datetime.now().hour < 22:\n",
    "            func()\n",
    "        else:\n",
    "            pass  # Hush, the neighbors are asleep\n",
    "    return wrapper\n",
    "\n",
    "def say_whee():\n",
    "    print(\"Whee!\")\n",
    "\n",
    "say_whee = not_during_the_night(say_whee)\n",
    "\n",
    "say_whee()"
   ]
  },
  {
   "source": [
    "- Because `wrapper()` is a regular Python function, the way a decorator modifies a function can change dynamically. So as not to disturb your neighbors, the following example will only run the decorated code during the day.\n",
    "- If you try to call `say_whee()` after bedtime, nothing will happen."
   ],
   "cell_type": "markdown",
   "metadata": {}
  },
  {
   "cell_type": "code",
   "execution_count": 7,
   "metadata": {},
   "outputs": [
    {
     "output_type": "stream",
     "name": "stdout",
     "text": [
      "Something is happening before the function is called.\nWhee!\nSomething is happening after the function is called.\n"
     ]
    }
   ],
   "source": [
    "def my_decorator(func):\n",
    "    def wrapper():\n",
    "        print(\"Something is happening before the function is called.\")\n",
    "        func()\n",
    "        print(\"Something is happening after the function is called.\")\n",
    "    return wrapper\n",
    "\n",
    "@my_decorator\n",
    "def say_whee():\n",
    "    print(\"Whee!\")\n",
    "\n",
    "say_whee()"
   ]
  },
  {
   "source": [
    "- Python allows you to use decorators in a simpler way with the `@` symbol, sometimes called the “pie” syntax.\n",
    "- So, `@my_decorator` is just an easier way of saying say_whee = `my_decorator(say_whee)`. It’s how you apply a decorator to a function."
   ],
   "cell_type": "markdown",
   "metadata": {}
  },
  {
   "source": [
    "### Reusing Decorators\n",
    "- Let’s move the decorator to its own module that can be used in many other functions."
   ],
   "cell_type": "markdown",
   "metadata": {}
  },
  {
   "cell_type": "code",
   "execution_count": 8,
   "metadata": {},
   "outputs": [
    {
     "output_type": "stream",
     "name": "stdout",
     "text": [
      "Whee!\nWhee!\n"
     ]
    }
   ],
   "source": [
    "def do_twice(func):\n",
    "    def wrapper_do_twice():\n",
    "        func()\n",
    "        func()\n",
    "    return wrapper_do_twice\n",
    "\n",
    "# If we keep our decorator in its own module naming decorators, then we can use it using\n",
    "# from decorators import do_twice\n",
    "\n",
    "@do_twice\n",
    "def say_whee():\n",
    "    print(\"Whee!\")\n",
    "\n",
    "say_whee()"
   ]
  },
  {
   "source": [
    "# General decorator pattern"
   ],
   "cell_type": "markdown",
   "metadata": {}
  },
  {
   "cell_type": "code",
   "execution_count": 9,
   "metadata": {},
   "outputs": [],
   "source": [
    "import functools\n",
    "\n",
    "def decorator(func):\n",
    "    @functools.wraps(func) # It will preserve the information about original function\n",
    "    def wrapper_decorator(*args, **kwargs): # So that inner can take any number of arguments\n",
    "        # Do something before\n",
    "        value = func(*args, **kwargs)\n",
    "        # Do something after\n",
    "        return value # So that inner argument do not eat return value of original function\n",
    "    return wrapper_decorator"
   ]
  },
  {
   "cell_type": "code",
   "execution_count": 10,
   "metadata": {},
   "outputs": [
    {
     "output_type": "stream",
     "name": "stdout",
     "text": [
      "Took 0.0006 to run waste_some_time\n"
     ]
    }
   ],
   "source": [
    "import functools\n",
    "import time\n",
    "\n",
    "def timer(func):\n",
    "    @functools.wraps(func)\n",
    "    def wrapper_timer(*args, **kwargs):\n",
    "        start = time.perf_counter()\n",
    "        value = func(*args, **kwargs)\n",
    "        end = time.perf_counter()\n",
    "        run_time = end - start\n",
    "        print(f\"Took {run_time:.4f} to run {func.__name__}\")\n",
    "        return value\n",
    "    return wrapper_timer\n",
    "\n",
    "@timer\n",
    "def waste_some_time(c):\n",
    "    for _ in range(c):\n",
    "        # If count is 1, sum will be calculated only 1 time.\n",
    "        # If count is 999, sum will be calculated only 999 time.\n",
    "        sum([i**2 for i in range(999)]) \n",
    "\n",
    "waste_some_time(1)"
   ]
  },
  {
   "cell_type": "code",
   "execution_count": 11,
   "metadata": {},
   "outputs": [
    {
     "output_type": "stream",
     "name": "stdout",
     "text": [
      "Took 0.0410 to run waste_some_time\n"
     ]
    }
   ],
   "source": [
    "waste_some_time(99)"
   ]
  }
 ]
}