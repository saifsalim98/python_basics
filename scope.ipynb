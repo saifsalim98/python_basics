{
 "metadata": {
  "language_info": {
   "codemirror_mode": {
    "name": "ipython",
    "version": 3
   },
   "file_extension": ".py",
   "mimetype": "text/x-python",
   "name": "python",
   "nbconvert_exporter": "python",
   "pygments_lexer": "ipython3",
   "version": "3.8.5-final"
  },
  "orig_nbformat": 2,
  "kernelspec": {
   "name": "Python 3.8.5 32-bit",
   "display_name": "Python 3.8.5 32-bit",
   "metadata": {
    "interpreter": {
     "hash": "c8c67d7b5f6c4eb0441f3193fbadadf32ad8702ac25153d20f9b99244ab68d42"
    }
   }
  }
 },
 "nbformat": 4,
 "nbformat_minor": 2,
 "cells": [
  {
   "source": [
    "## Python follows LEGB for scope where\n",
    "- L stants for Local\n",
    "- E stands for Enclosing\n",
    "- G stands for Global, and\n",
    "- B stands for Builtins"
   ],
   "cell_type": "markdown",
   "metadata": {}
  },
  {
   "cell_type": "code",
   "execution_count": 1,
   "metadata": {
    "tags": []
   },
   "outputs": [
    {
     "output_type": "stream",
     "name": "stdout",
     "text": "Local x\n106755360\nGlobal x\n104304496\n"
    }
   ],
   "source": [
    "x = 'Global x'\n",
    "\n",
    "def test():\n",
    "    x = 'Local x'\n",
    "    print(x)\n",
    "    print(id(x))\n",
    "\n",
    "test()\n",
    "print(x)\n",
    "print(id(x))"
   ]
  },
  {
   "cell_type": "code",
   "execution_count": 2,
   "metadata": {
    "tags": []
   },
   "outputs": [
    {
     "output_type": "stream",
     "name": "stdout",
     "text": "Global x\n104301536\nGlobal x\n104301536\n"
    }
   ],
   "source": [
    "x = 'Global x'\n",
    "\n",
    "def test():\n",
    "    # x = 'Local x'\n",
    "    print(x)\n",
    "    print(id(x))\n",
    "\n",
    "test()\n",
    "print(x)\n",
    "print(id(x))"
   ]
  },
  {
   "source": [
    "Here, within the test function, when it couldn't find any variable named x, <br>\n",
    "the interpreter looked for the next scope, that is, enclosing, <br>\n",
    "but since the test function is not enclosed in any function, <br>\n",
    "the interpreter looked for the next scope, that is, global, <br>\n",
    "and in global scope x variable was defined, so it used that"
   ],
   "cell_type": "markdown",
   "metadata": {}
  },
  {
   "cell_type": "code",
   "execution_count": 3,
   "metadata": {
    "tags": []
   },
   "outputs": [
    {
     "output_type": "stream",
     "name": "stdout",
     "text": "Local x\nLocal x\n"
    }
   ],
   "source": [
    "x = 'Global x'\n",
    "\n",
    "def test():\n",
    "    global x\n",
    "    x = 'Local x'\n",
    "    print(x)\n",
    "\n",
    "test()\n",
    "print(x)"
   ]
  },
  {
   "source": [
    "In order to alter the value of global variable from local scope, we use `global` keyword"
   ],
   "cell_type": "markdown",
   "metadata": {}
  },
  {
   "cell_type": "code",
   "execution_count": 4,
   "metadata": {
    "tags": []
   },
   "outputs": [
    {
     "output_type": "stream",
     "name": "stdout",
     "text": "Global x\nGlobal x\n"
    }
   ],
   "source": [
    "def test():\n",
    "    global x\n",
    "    x = 'Global x'\n",
    "    print(x)\n",
    "\n",
    "test()\n",
    "print(x)"
   ]
  },
  {
   "source": [
    "We can also define variable at global scope from local scope using `global` keyword"
   ],
   "cell_type": "markdown",
   "metadata": {}
  },
  {
   "cell_type": "code",
   "execution_count": 5,
   "metadata": {
    "tags": []
   },
   "outputs": [
    {
     "output_type": "stream",
     "name": "stdout",
     "text": "['ArithmeticError', 'AssertionError', 'AttributeError', 'BaseException', 'BlockingIOError', 'BrokenPipeError', 'BufferError', 'BytesWarning', 'ChildProcessError', 'ConnectionAbortedError', 'ConnectionError', 'ConnectionRefusedError', 'ConnectionResetError', 'DeprecationWarning', 'EOFError', 'Ellipsis', 'EnvironmentError', 'Exception', 'False', 'FileExistsError', 'FileNotFoundError', 'FloatingPointError', 'FutureWarning', 'GeneratorExit', 'IOError', 'ImportError', 'ImportWarning', 'IndentationError', 'IndexError', 'InterruptedError', 'IsADirectoryError', 'KeyError', 'KeyboardInterrupt', 'LookupError', 'MemoryError', 'ModuleNotFoundError', 'NameError', 'None', 'NotADirectoryError', 'NotImplemented', 'NotImplementedError', 'OSError', 'OverflowError', 'PendingDeprecationWarning', 'PermissionError', 'ProcessLookupError', 'RecursionError', 'ReferenceError', 'ResourceWarning', 'RuntimeError', 'RuntimeWarning', 'StopAsyncIteration', 'StopIteration', 'SyntaxError', 'SyntaxWarning', 'SystemError', 'SystemExit', 'TabError', 'TimeoutError', 'True', 'TypeError', 'UnboundLocalError', 'UnicodeDecodeError', 'UnicodeEncodeError', 'UnicodeError', 'UnicodeTranslateError', 'UnicodeWarning', 'UserWarning', 'ValueError', 'Warning', 'WindowsError', 'ZeroDivisionError', '__IPYTHON__', '__build_class__', '__debug__', '__doc__', '__import__', '__loader__', '__name__', '__package__', '__spec__', 'abs', 'all', 'any', 'ascii', 'bin', 'bool', 'breakpoint', 'bytearray', 'bytes', 'callable', 'chr', 'classmethod', 'compile', 'complex', 'copyright', 'credits', 'delattr', 'dict', 'dir', 'display', 'divmod', 'enumerate', 'eval', 'exec', 'filter', 'float', 'format', 'frozenset', 'get_ipython', 'getattr', 'globals', 'hasattr', 'hash', 'help', 'hex', 'id', 'input', 'int', 'isinstance', 'issubclass', 'iter', 'len', 'license', 'list', 'locals', 'map', 'max', 'memoryview', 'min', 'next', 'object', 'oct', 'open', 'ord', 'pow', 'print', 'property', 'range', 'repr', 'reversed', 'round', 'set', 'setattr', 'slice', 'sorted', 'staticmethod', 'str', 'sum', 'super', 'tuple', 'type', 'vars', 'zip']\n"
    }
   ],
   "source": [
    "import builtins\n",
    "print(dir(builtins))"
   ]
  },
  {
   "source": [
    "`dir()` function returns all properties and methods of the specified object, without the values"
   ],
   "cell_type": "markdown",
   "metadata": {}
  },
  {
   "cell_type": "code",
   "execution_count": 6,
   "metadata": {
    "tags": []
   },
   "outputs": [
    {
     "output_type": "stream",
     "name": "stdout",
     "text": "12\n"
    }
   ],
   "source": [
    "a = [20, 12, 45, 31]\n",
    "r = min(a)\n",
    "print(r)"
   ]
  },
  {
   "cell_type": "code",
   "execution_count": 7,
   "metadata": {
    "tags": []
   },
   "outputs": [
    {
     "output_type": "stream",
     "name": "stdout",
     "text": "[12, 20, 31, 45]\n"
    }
   ],
   "source": [
    "r = sorted(a)\n",
    "print(r)"
   ]
  },
  {
   "cell_type": "code",
   "execution_count": 8,
   "metadata": {
    "tags": []
   },
   "outputs": [
    {
     "output_type": "stream",
     "name": "stdout",
     "text": "12\n"
    }
   ],
   "source": [
    "def sorted(x):\n",
    "    return min(x)\n",
    "\n",
    "a = [20, 12, 45, 31]\n",
    "result = sorted(a)\n",
    "print(result)"
   ]
  },
  {
   "source": [
    "Python don't give any error when we try to alter builtin methods.<br>\n",
    "Here the interpreter found the builtin definition at first,<br>\n",
    "but when we defined sorted method in global scope, it used that definition."
   ],
   "cell_type": "markdown",
   "metadata": {}
  },
  {
   "cell_type": "code",
   "execution_count": 9,
   "metadata": {
    "tags": []
   },
   "outputs": [
    {
     "output_type": "stream",
     "name": "stdout",
     "text": "Inner x\n106801952\nOuter x\n106801856\n"
    }
   ],
   "source": [
    "def outer():\n",
    "    x = 'Outer x'\n",
    "    def inner():\n",
    "        x = 'Inner x'\n",
    "        print(x)\n",
    "        print(id(x))\n",
    "    inner()\n",
    "    print(x)\n",
    "    print(id(x))\n",
    "outer()"
   ]
  },
  {
   "cell_type": "code",
   "execution_count": 10,
   "metadata": {
    "tags": []
   },
   "outputs": [
    {
     "output_type": "stream",
     "name": "stdout",
     "text": "Outer x\n106813632\nOuter x\n106813632\n"
    }
   ],
   "source": [
    "def outer():\n",
    "    x = 'Outer x'\n",
    "    def inner():\n",
    "        # x = 'Inner x'\n",
    "        print(x)\n",
    "        print(id(x))\n",
    "    inner()\n",
    "    print(x)\n",
    "    print(id(x))\n",
    "outer()"
   ]
  },
  {
   "cell_type": "code",
   "execution_count": 11,
   "metadata": {
    "tags": []
   },
   "outputs": [
    {
     "output_type": "stream",
     "name": "stdout",
     "text": "Inner x\n106815392\nInner x\n106815392\n"
    }
   ],
   "source": [
    "def outer():\n",
    "    x = 'Outer x'\n",
    "    def inner():\n",
    "        nonlocal x\n",
    "        x = 'Inner x'\n",
    "        print(x)\n",
    "        print(id(x))\n",
    "    inner()\n",
    "    print(x)\n",
    "    print(id(x))\n",
    "outer()"
   ]
  },
  {
   "source": [
    "In order to alter the value of variable defined in enclosing function from enclosed function, we use `nonlocal` keyword"
   ],
   "cell_type": "markdown",
   "metadata": {}
  },
  {
   "cell_type": "code",
   "execution_count": 12,
   "metadata": {
    "tags": []
   },
   "outputs": [
    {
     "output_type": "stream",
     "name": "stdout",
     "text": "Inner x\n106832096\nOuter x\n106832032\nGlobal x\n106775480\n"
    }
   ],
   "source": [
    "x = 'Global x'\n",
    "def outer():\n",
    "    x = 'Outer x'\n",
    "    def inner():\n",
    "        x = 'Inner x'\n",
    "        print(x)\n",
    "        print(id(x))\n",
    "    inner()\n",
    "    print(x)\n",
    "    print(id(x))\n",
    "outer()\n",
    "print(x)\n",
    "print(id(x))"
   ]
  },
  {
   "cell_type": "code",
   "execution_count": 13,
   "metadata": {
    "tags": []
   },
   "outputs": [
    {
     "output_type": "stream",
     "name": "stdout",
     "text": "Outer x\n106827488\nOuter x\n106827488\nGlobal x\n106816640\n"
    }
   ],
   "source": [
    "x = 'Global x'\n",
    "def outer():\n",
    "    x = 'Outer x'\n",
    "    def inner():\n",
    "        # x = 'Inner x'\n",
    "        print(x)\n",
    "        print(id(x))\n",
    "    inner()\n",
    "    print(x)\n",
    "    print(id(x))\n",
    "outer()\n",
    "print(x)\n",
    "print(id(x))"
   ]
  },
  {
   "cell_type": "code",
   "execution_count": 14,
   "metadata": {
    "tags": []
   },
   "outputs": [
    {
     "output_type": "stream",
     "name": "stdout",
     "text": "Global x\n106815880\nGlobal x\n106815880\nGlobal x\n106815880\n"
    }
   ],
   "source": [
    "x = 'Global x'\n",
    "def outer():\n",
    "    # x = 'Outer x'\n",
    "    def inner():\n",
    "        # x = 'Inner x'\n",
    "        print(x)\n",
    "        print(id(x))\n",
    "    inner()\n",
    "    print(x)\n",
    "    print(id(x))\n",
    "outer()\n",
    "print(x)\n",
    "print(id(x))"
   ]
  }
 ]
}