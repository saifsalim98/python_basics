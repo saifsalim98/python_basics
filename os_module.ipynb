{
 "metadata": {
  "language_info": {
   "codemirror_mode": {
    "name": "ipython",
    "version": 3
   },
   "file_extension": ".py",
   "mimetype": "text/x-python",
   "name": "python",
   "nbconvert_exporter": "python",
   "pygments_lexer": "ipython3",
   "version": "3.8.5-final"
  },
  "orig_nbformat": 2,
  "kernelspec": {
   "name": "Python 3.8.5 32-bit",
   "display_name": "Python 3.8.5 32-bit",
   "metadata": {
    "interpreter": {
     "hash": "c8c67d7b5f6c4eb0441f3193fbadadf32ad8702ac25153d20f9b99244ab68d42"
    }
   }
  }
 },
 "nbformat": 4,
 "nbformat_minor": 2,
 "cells": [
  {
   "source": [
    "## Python `os` module\n",
    "- `os` module in python provides functions for interacting with the operating system\n",
    "- It comes under Python’s standard utility modules"
   ],
   "cell_type": "markdown",
   "metadata": {}
  },
  {
   "cell_type": "code",
   "execution_count": 1,
   "metadata": {
    "tags": []
   },
   "outputs": [
    {
     "output_type": "stream",
     "name": "stdout",
     "text": "nt\n"
    }
   ],
   "source": [
    "import os\n",
    "print(os.name)"
   ]
  },
  {
   "source": [
    "Windows NT is a family of operating systems produced by Microsoft where NT stands for New Technology"
   ],
   "cell_type": "markdown",
   "metadata": {}
  },
  {
   "cell_type": "code",
   "execution_count": 2,
   "metadata": {
    "tags": []
   },
   "outputs": [
    {
     "output_type": "stream",
     "name": "stdout",
     "text": "['DirEntry', 'F_OK', 'MutableMapping', 'O_APPEND', 'O_BINARY', 'O_CREAT', 'O_EXCL', 'O_NOINHERIT', 'O_RANDOM', 'O_RDONLY', 'O_RDWR', 'O_SEQUENTIAL', 'O_SHORT_LIVED', 'O_TEMPORARY', 'O_TEXT', 'O_TRUNC', 'O_WRONLY', 'P_DETACH', 'P_NOWAIT', 'P_NOWAITO', 'P_OVERLAY', 'P_WAIT', 'PathLike', 'R_OK', 'SEEK_CUR', 'SEEK_END', 'SEEK_SET', 'TMP_MAX', 'W_OK', 'X_OK', '_AddedDllDirectory', '_Environ', '__all__', '__builtins__', '__cached__', '__doc__', '__file__', '__loader__', '__name__', '__package__', '__spec__', '_check_methods', '_execvpe', '_exists', '_exit', '_fspath', '_get_exports_list', '_putenv', '_unsetenv', '_wrap_close', 'abc', 'abort', 'access', 'add_dll_directory', 'altsep', 'chdir', 'chmod', 'close', 'closerange', 'cpu_count', 'curdir', 'defpath', 'device_encoding', 'devnull', 'dup', 'dup2', 'environ', 'error', 'execl', 'execle', 'execlp', 'execlpe', 'execv', 'execve', 'execvp', 'execvpe', 'extsep', 'fdopen', 'fsdecode', 'fsencode', 'fspath', 'fstat', 'fsync', 'ftruncate', 'get_exec_path', 'get_handle_inheritable', 'get_inheritable', 'get_terminal_size', 'getcwd', 'getcwdb', 'getenv', 'getlogin', 'getpid', 'getppid', 'isatty', 'kill', 'linesep', 'link', 'listdir', 'lseek', 'lstat', 'makedirs', 'mkdir', 'name', 'open', 'pardir', 'path', 'pathsep', 'pipe', 'popen', 'putenv', 'read', 'readlink', 'remove', 'removedirs', 'rename', 'renames', 'replace', 'rmdir', 'scandir', 'sep', 'set_handle_inheritable', 'set_inheritable', 'spawnl', 'spawnle', 'spawnv', 'spawnve', 'st', 'startfile', 'stat', 'stat_result', 'statvfs_result', 'strerror', 'supports_bytes_environ', 'supports_dir_fd', 'supports_effective_ids', 'supports_fd', 'supports_follow_symlinks', 'symlink', 'sys', 'system', 'terminal_size', 'times', 'times_result', 'truncate', 'umask', 'uname_result', 'unlink', 'urandom', 'utime', 'waitpid', 'walk', 'write']\n"
    }
   ],
   "source": [
    "print(dir(os))"
   ]
  },
  {
   "cell_type": "code",
   "execution_count": 3,
   "metadata": {
    "tags": []
   },
   "outputs": [
    {
     "output_type": "stream",
     "name": "stdout",
     "text": "d:\\python_basics\n"
    }
   ],
   "source": [
    "# Get current working directory\n",
    "print(os.getcwd())"
   ]
  },
  {
   "cell_type": "code",
   "execution_count": 4,
   "metadata": {
    "tags": []
   },
   "outputs": [
    {
     "output_type": "stream",
     "name": "stdout",
     "text": "d:\\\nd:\\python_basics\n"
    }
   ],
   "source": [
    "# Change working directory\n",
    "os.chdir('d:/')\n",
    "print(os.getcwd())\n",
    "os.chdir('d:/python_basics')\n",
    "print(os.getcwd())"
   ]
  },
  {
   "source": [
    "`chdir()` accepts `/`(forward slash) as directory seperator but Windows shows `\\`(backslash)"
   ],
   "cell_type": "markdown",
   "metadata": {}
  },
  {
   "cell_type": "code",
   "execution_count": 5,
   "metadata": {
    "tags": []
   },
   "outputs": [
    {
     "output_type": "stream",
     "name": "stdout",
     "text": "['.git', 'os_module.ipynb', 'scope.ipynb']\n"
    }
   ],
   "source": [
    "# List everything within directory.\n",
    "# You can pass a path, but by default it is in the current directory\n",
    "print(os.listdir())"
   ]
  },
  {
   "cell_type": "code",
   "execution_count": 6,
   "metadata": {},
   "outputs": [],
   "source": [
    "# Make single directory\n",
    "os.mkdir('os-module-examples')\n",
    "\n",
    "# Make subdirectory without existence of parent directory\n",
    "os.makedirs('os-module-examples2/folder1/subfolder1') "
   ]
  },
  {
   "cell_type": "code",
   "execution_count": 7,
   "metadata": {},
   "outputs": [],
   "source": [
    "# Remove a directory\n",
    "os.rmdir('os-module-examples')\n",
    "\n",
    "# Remove multiple directory at once\n",
    "os.removedirs('os-module-examples2/folder1/subfolder1')"
   ]
  },
  {
   "cell_type": "code",
   "execution_count": 8,
   "metadata": {
    "tags": []
   },
   "outputs": [
    {
     "output_type": "stream",
     "name": "stdout",
     "text": "d:\\python_basics\\os-module-examples\nTrue\n['abc.txt']\n"
    }
   ],
   "source": [
    "os.mkdir('os-module-examples')\n",
    "os.chdir('d:/python_basics/os-module-examples')\n",
    "print(os.getcwd())\n",
    "\n",
    "# Create new file\n",
    "with open('abc.txt', 'w') as f:\n",
    "    f.write(\"Hello World\")\n",
    "\n",
    "# Check whether file is closed or not\n",
    "print(f.closed)\n",
    "\n",
    "print(os.listdir())"
   ]
  },
  {
   "cell_type": "code",
   "execution_count": 9,
   "metadata": {
    "tags": []
   },
   "outputs": [
    {
     "output_type": "stream",
     "name": "stdout",
     "text": "['.git', 'os-examples', 'os_module.ipynb', 'scope.ipynb']\n"
    }
   ],
   "source": [
    "# Rename a file or a folder\n",
    "os.rename('abc.txt', 'xyz.txt')\n",
    "\n",
    "os.chdir('d:/python_basics')\n",
    "\n",
    "os.rename('os-module-examples', 'os-examples')\n",
    "print(os.listdir())"
   ]
  },
  {
   "cell_type": "code",
   "execution_count": 10,
   "metadata": {
    "tags": []
   },
   "outputs": [
    {
     "output_type": "stream",
     "name": "stdout",
     "text": "os.stat_result(st_mode=33206, st_ino=1125899906846473, st_dev=4005405072, st_nlink=1, st_uid=0, st_gid=0, st_size=11, st_atime=1601371881, st_mtime=1601371881, st_ctime=1601371881)\n11\n2020-09-29 15:01:21.904696\n2020-09-29 15:01:21\n"
    }
   ],
   "source": [
    "# os.stat() to get info about the file\n",
    "print(os.stat('d:/python_basics/os-examples/xyz.txt'))\n",
    "\n",
    "# st_size attribute gives the size of the file\n",
    "print(os.stat('d:/python_basics/os-examples/xyz.txt').st_size)\n",
    "\n",
    "# st_ctime attribute gives the timestamp for the creation of file\n",
    "from datetime import datetime\n",
    "ts = os.stat('d:/python_basics/os-examples/xyz.txt').st_ctime\n",
    "print(datetime.fromtimestamp(ts))\n",
    "print(datetime.fromtimestamp(ts).strftime('%Y-%m-%d %H:%M:%S'))"
   ]
  },
  {
   "source": [
    "To see entire directory tree and files, use `os.walk()` <br>\n",
    "`os.walk` is a generator that yields a tuple of 3 values as it walks the directory tree <br>\n",
    "- Directory path\n",
    "- Names of directories in the path\n",
    "- Names of files in the path\n",
    "\n",
    "**This is helpful for locating a file that you can’t remember where it was within a certain directory structure**"
   ],
   "cell_type": "markdown",
   "metadata": {}
  },
  {
   "cell_type": "code",
   "execution_count": 11,
   "metadata": {
    "tags": []
   },
   "outputs": [
    {
     "output_type": "stream",
     "name": "stdout",
     "text": "Current Path: d:/python_basics/os-examples\nDirectories: ['folder1', 'folder2']\nFiles: ['xyz.txt']\n\nCurrent Path: d:/python_basics/os-examples\\folder1\nDirectories: ['subfolder']\nFiles: []\n\nCurrent Path: d:/python_basics/os-examples\\folder1\\subfolder\nDirectories: []\nFiles: []\n\nCurrent Path: d:/python_basics/os-examples\\folder2\nDirectories: []\nFiles: []\n\n"
    }
   ],
   "source": [
    "os.makedirs('d:/python_basics/os-examples/folder1/subfolder')\n",
    "os.makedirs('d:/python_basics/os-examples/folder2')\n",
    "\n",
    "for dirpath, dirnames, filenames in os.walk('d:/python_basics/os-examples'): \n",
    "    print(f'Current Path: {dirpath}')\n",
    "    print(f'Directories: {dirnames}')\n",
    "    print(f'Files: {filenames}')\n",
    "    print()"
   ]
  },
  {
   "cell_type": "code",
   "execution_count": 12,
   "metadata": {
    "tags": []
   },
   "outputs": [
    {
     "output_type": "stream",
     "name": "stdout",
     "text": "C:\\Users\\PREDATOR\\OneDrive\n"
    }
   ],
   "source": [
    "# Access environment variable by giving their name as an argument\n",
    "print(os.environ.get('OneDrive'))"
   ]
  },
  {
   "source": [
    "**Use `os.path.join()` to properly join paths because it takes the guess work of inserting a slash**"
   ],
   "cell_type": "markdown",
   "metadata": {}
  },
  {
   "cell_type": "code",
   "execution_count": 13,
   "metadata": {
    "tags": []
   },
   "outputs": [
    {
     "output_type": "stream",
     "name": "stdout",
     "text": "C:\\Users\\PREDATOR\\OneDrive\\Desktop\nC:\\Users\\PREDATOR\\OneDrive\\Desktop\n['activation script.txt', 'Books in Use', 'desktop.ini', 'Notion.lnk', 'Obsidian.lnk', 'Spotify.lnk', 'Visual Studio Code.lnk']\n"
    }
   ],
   "source": [
    "file_path = os.path.join(os.environ.get('OneDrive'), 'Desktop')\n",
    "print(file_path)\n",
    "os.chdir(file_path)\n",
    "print(os.getcwd())\n",
    "print(os.listdir())"
   ]
  },
  {
   "cell_type": "code",
   "execution_count": 14,
   "metadata": {
    "tags": []
   },
   "outputs": [
    {
     "output_type": "stream",
     "name": "stdout",
     "text": "hello.txt\n/tmp/user\n('/tmp/user', 'hello.txt')\nFalse\n('/tmp/user/hello', '.txt')\n"
    }
   ],
   "source": [
    "# Returns filename\n",
    "print(os.path.basename('/tmp/hello.txt'))\n",
    "\n",
    "# Returns full directory\n",
    "print(os.path.dirname('/tmp/user/hello.txt'))\n",
    "\n",
    "# Split filename and directory\n",
    "print(os.path.split('/tmp/user/hello.txt'))\n",
    "\n",
    "# Check whether any such path exists or not\n",
    "print(os.path.exists('/tmp/user/hello.txt'))\n",
    "\n",
    "# Return the extension. Become a lot easier than parsing out the extension.\n",
    "print(os.path.splitext('/tmp/user/hello.txt'))"
   ]
  }
 ]
}