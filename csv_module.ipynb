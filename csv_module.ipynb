{
 "metadata": {
  "language_info": {
   "codemirror_mode": {
    "name": "ipython",
    "version": 3
   },
   "file_extension": ".py",
   "mimetype": "text/x-python",
   "name": "python",
   "nbconvert_exporter": "python",
   "pygments_lexer": "ipython3",
   "version": "3.8.5-final"
  },
  "orig_nbformat": 2,
  "kernelspec": {
   "name": "Python 3.8.5 32-bit",
   "display_name": "Python 3.8.5 32-bit",
   "metadata": {
    "interpreter": {
     "hash": "c8c67d7b5f6c4eb0441f3193fbadadf32ad8702ac25153d20f9b99244ab68d42"
    }
   }
  }
 },
 "nbformat": 4,
 "nbformat_minor": 2,
 "cells": [
  {
   "source": [
    "## Python `csv` module\n",
    "- The csv module implements classes to read and write tabular data in CSV format.\n",
    "- The csv module's `reader` and `writer` objects read and write sequences.\n",
    "- We can also read and write data in dictionary form using the `DictReader` and `DictWriter` classes."
   ],
   "cell_type": "markdown",
   "metadata": {}
  },
  {
   "cell_type": "code",
   "execution_count": null,
   "metadata": {
    "tags": []
   },
   "outputs": [],
   "source": [
    "import csv\n",
    "\n",
    "with open('d:/python_basics/csv-examples/person.csv') as csv_file:\n",
    "    # csv.reader() returns a reader object which will iterate over lines in the given csvfile\n",
    "    # Each line in csv file will be splitted on the specified delimiter and returned as list of strings\n",
    "    csv_reader = csv.reader(csv_file, delimiter=',')\n",
    "    print(csv_reader)\n",
    "    next(csv_reader) # Removes the heading row\n",
    "    for line in csv_reader:\n",
    "        print(line)"
   ]
  },
  {
   "cell_type": "code",
   "execution_count": null,
   "metadata": {},
   "outputs": [],
   "source": [
    "with open('d:/python_basics/csv-examples/updated_person.csv', 'w', newline='') as csv_write_file:\n",
    "    csv_writer = csv.writer(csv_write_file, delimiter='\\t')\n",
    "\n",
    "    with open('d:/python_basics/csv-examples/person.csv', newline='') as csv_read_file:\n",
    "        csv_reader = csv.reader(csv_read_file)\n",
    "        for line in csv_reader:\n",
    "            csv_writer.writerow([line[0], line[1]])"
   ]
  },
  {
   "source": [
    "- `DictReader()` creates an object that operates like a regular csv reader but maps the information in each row to a dict.\n",
    "- The keys of the dict are given by the optional `fieldnames` parameter.\n",
    "- The `fieldnames` parameter is a sequence.\n",
    "- If `fieldnames` is omitted, the values in the first row of csv file will be used as the fieldnames."
   ],
   "cell_type": "markdown",
   "metadata": {}
  },
  {
   "cell_type": "code",
   "execution_count": null,
   "metadata": {
    "tags": []
   },
   "outputs": [],
   "source": [
    "with open('d:/python_basics/csv-examples/person.csv') as csv_file:\n",
    "    csv_reader = csv.DictReader(csv_file, delimiter=',')\n",
    "    for line in csv_reader:\n",
    "        print(line)\n",
    "        # print(f\"{line['name']} is from {line['country']}\")"
   ]
  },
  {
   "source": [
    "- `DictWriter` creates an object which operates like a regular csv writer.\n",
    "- But, istead of list, it maps dictionaries onto output rows.\n",
    "- Unlike the `DictReader` class, the `fieldnames` parameter of the `DictWriter` class is not optional.\n",
    "- The `fieldnames` parameter is a sequence of keys that identify the order in which values in the dictionary passed to the `writerow()` method are written to csv file.\n"
   ],
   "cell_type": "markdown",
   "metadata": {}
  },
  {
   "cell_type": "code",
   "execution_count": null,
   "metadata": {},
   "outputs": [],
   "source": [
    "with open('d:/python_basics/csv-examples/person.csv') as csv_reader_file:\n",
    "    csv_reader = csv.DictReader(csv_reader_file, delimiter=',')\n",
    "    with open('d:/python_basics/csv-examples/new_person.csv', 'w', newline='') as csv_writer_file:\n",
    "        csv_writer = csv.DictWriter(csv_writer_file, fieldnames=['country','name'], delimiter='\\t')\n",
    "        csv_writer.writeheader()\n",
    "        for line in csv_reader:\n",
    "            del line['email']\n",
    "            csv_writer.writerow(line)"
   ]
  },
  {
   "cell_type": "code",
   "execution_count": null,
   "metadata": {},
   "outputs": [],
   "source": [
    "with open('d:/python_basics/csv-examples/person.csv') as csv_reader_file:\n",
    "    csv_reader = csv.DictReader(csv_reader_file, delimiter=',')\n",
    "    with open('d:/python_basics/csv-examples/new_person1.csv', 'w', newline='') as csv_writer_file:\n",
    "        csv_writer = csv.DictWriter(csv_writer_file, fieldnames=['country','name'], delimiter='\\t', extrasaction='ignore')\n",
    "        csv_writer.writeheader()\n",
    "        for line in csv_reader:\n",
    "            # del line['email']\n",
    "            csv_writer.writerow(line)"
   ]
  }
 ]
}