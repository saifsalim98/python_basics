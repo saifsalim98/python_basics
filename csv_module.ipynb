{
 "metadata": {
  "language_info": {
   "codemirror_mode": {
    "name": "ipython",
    "version": 3
   },
   "file_extension": ".py",
   "mimetype": "text/x-python",
   "name": "python",
   "nbconvert_exporter": "python",
   "pygments_lexer": "ipython3",
   "version": "3.8.5-final"
  },
  "orig_nbformat": 2,
  "kernelspec": {
   "name": "Python 3.8.5 32-bit",
   "display_name": "Python 3.8.5 32-bit",
   "metadata": {
    "interpreter": {
     "hash": "c8c67d7b5f6c4eb0441f3193fbadadf32ad8702ac25153d20f9b99244ab68d42"
    }
   }
  }
 },
 "nbformat": 4,
 "nbformat_minor": 2,
 "cells": [
  {
   "source": [
    "## Python `csv` module\n",
    "- The csv module implements classes to read and write tabular data in CSV format.\n",
    "- The csv module's `reader` and `writer` objects read and write sequences.\n",
    "- We can also read and write data in dictionary form using the `DictReader` and `DictWriter` classes."
   ],
   "cell_type": "markdown",
   "metadata": {}
  },
  {
   "cell_type": "code",
   "execution_count": 11,
   "metadata": {
    "tags": []
   },
   "outputs": [
    {
     "output_type": "stream",
     "name": "stdout",
     "text": "&lt;_csv.reader object at 0x058EE958&gt;\n[&#39;Neil&#39;, &#39;velit@Maurisquis.net&#39;, &#39;Bouvet Island&#39;]\n[&#39;Holly&#39;, &#39;aliquet.vel@eu.co.uk&#39;, &#39;Haiti&#39;]\n[&#39;Kevyn&#39;, &#39;eu@Etiamvestibulummassa.org&#39;, &#39;Kuwait&#39;]\n[&#39;Galena&#39;, &#39;est.Nunc@volutpatNulla.com&#39;, &#39;Swaziland&#39;]\n[&#39;Craig&#39;, &#39;et.magnis@augue.ca&#39;, &#39;Sri Lanka&#39;]\n[&#39;Stewart&#39;, &#39;In@inceptoshymenaeos.edu&#39;, &#39;Yemen&#39;]\n[&#39;Cooper&#39;, &#39;cubilia.Curae.Donec@dolor.net&#39;, &#39;Iran&#39;]\n[&#39;Keaton&#39;, &#39;mollis@odio.co.uk&#39;, &#39;Honduras&#39;]\n[&#39;Grace&#39;, &#39;ac.mattis@metusVivamuseuismod.org&#39;, &#39;Nicaragua&#39;]\n[&#39;Venus&#39;, &#39;Proin.vel@euaccumsansed.edu&#39;, &#39;Bhutan&#39;]\n[&#39;Kermit&#39;, &#39;imperdiet@liberoet.org&#39;, &#39;Wallis and Futuna&#39;]\n[&#39;Tanisha&#39;, &#39;a.ultricies.adipiscing@hendrerit.ca&#39;, &#39;Malawi&#39;]\n[&#39;Beau&#39;, &#39;Aenean.eget@elit.edu&#39;, &#39;Jersey&#39;]\n[&#39;Amela&#39;, &#39;diam.luctus.lobortis@lobortismauris.edu&#39;, &#39;Angola&#39;]\n[&#39;Desirae&#39;, &#39;Nunc.ac.sem@sociisnatoque.ca&#39;, &#39;Iceland&#39;]\n[&#39;Audra&#39;, &#39;pharetra.nibh.Aliquam@liberoProinsed.com&#39;, &#39;Reunion&#39;]\n[&#39;Martina&#39;, &#39;orci@Aenean.edu&#39;, &#39;Libya&#39;]\n[&#39;Laith&#39;, &#39;vitae.aliquam.eros@maurisMorbi.org&#39;, &#39;Zambia&#39;]\n[&#39;Ruby&#39;, &#39;arcu@consectetueradipiscing.com&#39;, &#39;Macedonia&#39;]\n"
    }
   ],
   "source": [
    "import csv\n",
    "\n",
    "with open('d:/python_basics/csv-examples/person.csv') as csv_file:\n",
    "    # csv.reader() returns a reader object which will iterate over lines in the given csvfile\n",
    "    # Each line in csv file will be splitted on the specified delimiter and returned as list of strings\n",
    "    csv_reader = csv.reader(csv_file, delimiter=',')\n",
    "    print(csv_reader)\n",
    "    next(csv_reader) # Removes the heading row\n",
    "    for line in csv_reader:\n",
    "        print(line)"
   ]
  },
  {
   "cell_type": "code",
   "execution_count": 15,
   "metadata": {},
   "outputs": [],
   "source": [
    "with open('d:/python_basics/csv-examples/updated_person.csv', 'w', newline='') as csv_write_file:\n",
    "    csv_writer = csv.writer(csv_write_file, delimiter='\\t')\n",
    "\n",
    "    with open('d:/python_basics/csv-examples/person.csv', newline='') as csv_read_file:\n",
    "        csv_reader = csv.reader(csv_read_file)\n",
    "        for line in csv_reader:\n",
    "            csv_writer.writerow([line[0], line[1]])"
   ]
  },
  {
   "cell_type": "code",
   "execution_count": null,
   "metadata": {},
   "outputs": [],
   "source": []
  }
 ]
}